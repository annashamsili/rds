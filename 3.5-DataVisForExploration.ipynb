import pandas as pd
import seaborn as sns
import matplotlib.pyplot as plt
import numpy as np
 
plt.style.use('seaborn')
sns.set_theme(style="whitegrid")
sns.set_style("white")

datafolder = 'C:/Users/SP/Documents/rdsturing/rds-course/coursebook/modules/m4/data/UKDA-7724-csv/'
df11 = pd.read_csv(datafolder + 'csv/eqls_2011.csv')

df_uk = df11_set.query('Country == 27')
df_uk.describe()

# Following command shows missing/non-missing values in two colors.
plt.figure(figsize=(40,40))
sns.displot(
    data=df_hours.isna().melt(value_name="missing"),
    y="variable",
    hue="missing",
    multiple="fill",
    aspect=3.25, 
)
plt.show()

print ('Percentage of missing values')
eqls_null_counts = df_uk.isnull().sum() / len(df_uk)
print(eqls_null_counts)

def plot_mean(data, **kws):
    mn = np.nanmean(data.SRH.values)
    ax = plt.gca()
    ax.axvline(mn, c = (.6,.6,.6), ls ='--')
    
 
g = sns.FacetGrid(df_uk, col="MentalWellbeingIndex", sharey=False)
g.map_dataframe(sns.histplot, 'AccomProblems',binwidth=1,binrange=[-0.5,6.5])

    
g.map_dataframe(plot_mean)
g.set_axis_labels("AccomProblems", "Count")
plt.show()

g = sns.FacetGrid(df_uk, col="MentalWellbeingIndex", sharey=False)
g.map_dataframe(sns.histplot, 'AccomProblems',binwidth=1,binrange=[0.5,4.5])

    
g.map_dataframe(plot_mean)
g.set_axis_labels("MentalWellbeingIndex", "Count")
plt.show()

print(df_uk[['MentalWellbeingIndex','AccomProblems']].corr(method='spearman'))
